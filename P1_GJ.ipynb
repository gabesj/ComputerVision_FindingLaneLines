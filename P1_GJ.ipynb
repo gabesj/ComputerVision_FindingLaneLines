{
 "cells": [
  {
   "cell_type": "markdown",
   "metadata": {},
   "source": [
    "# Self-Driving Car Engineer Nanodegree\n",
    "\n",
    "\n",
    "## Project: **Finding Lane Lines on the Road** \n",
    "***\n"
   ]
  },
  {
   "cell_type": "markdown",
   "metadata": {},
   "source": [
    "### Import Packages"
   ]
  },
  {
   "cell_type": "code",
   "execution_count": 1,
   "metadata": {},
   "outputs": [],
   "source": [
    "import matplotlib.pyplot as plt\n",
    "import matplotlib.image as mpimg\n",
    "import numpy as np\n",
    "import cv2\n",
    "import math\n",
    "import statistics\n",
    "import os\n",
    "from moviepy.editor import VideoFileClip\n",
    "from IPython.display import HTML\n",
    "%matplotlib inline"
   ]
  },
  {
   "cell_type": "markdown",
   "metadata": {},
   "source": [
    "### Starting Point Functions"
   ]
  },
  {
   "cell_type": "code",
   "execution_count": 2,
   "metadata": {},
   "outputs": [],
   "source": [
    "def grayscale(img):\n",
    "    return cv2.cvtColor(img, cv2.COLOR_RGB2GRAY)\n",
    "    \n",
    "def canny(img, low_threshold, high_threshold):\n",
    "    return cv2.Canny(img, low_threshold, high_threshold)\n",
    "\n",
    "def gaussian_blur(img, kernel_size):\n",
    "    return cv2.GaussianBlur(img, (kernel_size, kernel_size), 0)\n",
    "\n",
    "def weighted_img(img, initial_img, α=0.8, β=1., γ=0.):\n",
    "    return cv2.addWeighted(initial_img, α, img, β, γ)\n",
    "\n",
    "def region_of_interest(img, vertices):\n",
    "    #defining a blank mask to start with\n",
    "    mask = np.zeros_like(img)   \n",
    "    \n",
    "    #defining a 3 channel or 1 channel color to fill the mask with depending on the input image\n",
    "    if len(img.shape) > 2:\n",
    "        channel_count = img.shape[2]  # i.e. 3 or 4 depending on the image\n",
    "        ignore_mask_color = (255,) * channel_count\n",
    "    else:\n",
    "        ignore_mask_color = 255\n",
    "        \n",
    "    #filling pixels inside the polygon defined by \"vertices\" with the fill color    \n",
    "    cv2.fillPoly(mask, vertices, ignore_mask_color)\n",
    "    \n",
    "    #returning the image only where mask pixels are nonzero\n",
    "    masked_image = cv2.bitwise_and(img, mask)\n",
    "\n",
    "    return masked_image"
   ]
  },
  {
   "cell_type": "markdown",
   "metadata": {},
   "source": [
    "###  Elaborate Functions"
   ]
  },
  {
   "cell_type": "code",
   "execution_count": 3,
   "metadata": {},
   "outputs": [],
   "source": [
    "def draw_lines(img, lines, thickness=2):\n",
    "        \n",
    "    numLines = len(lines)\n",
    "    \n",
    "    if lineType == \"solid\":\n",
    "        slopes=[]\n",
    "        posIndex=[]     # this holds the index position in 'lines' list for a line with a positive slope\n",
    "        negIndex=[]     # this holds the index position in 'lines' list for a line with a negative slope\n",
    "        posSlopes=[]    # this holds all the slopes within an appropriate range for left lane lines\n",
    "        negSlopes=[]    # this holds all the slopes within an appropriate range for right lane lines\n",
    "            \n",
    "        for line in range(0,numLines):\n",
    "            slope= (lines[line][0][3]-lines[line][0][1]) / (lines[line][0][2]-lines[line][0][0])\n",
    "            slopes.append(slope)\n",
    "            if ((slope > 0.45) and (slope < 0.85)):\n",
    "                posIndex.append(line)\n",
    "                posSlopes.append(slope)\n",
    "            elif ((slope < -0.45) and (slope > -1.00)):\n",
    "                negIndex.append(line)\n",
    "                negSlopes.append(slope)\n",
    "            else:\n",
    "                continue\n",
    "        \n",
    "        numPos = len(posIndex)\n",
    "        numNeg = len(negIndex)\n",
    "        numSlopes = len(slopes)\n",
    "        \n",
    "        if numPos != 0:\n",
    "            medPosSlope = statistics.median(posSlopes)  #this is the number I will use for the right lane line slope\n",
    "        if numNeg != 0:        \n",
    "            medNegSlope = statistics.median(negSlopes)  #this is the number I will use for the left lane line slope\n",
    "    \n",
    "        #find ideal x and y coordinates for a point on the right lane line\n",
    "        if numPos != 0:\n",
    "            posSlopeRef=100 #start with a very high number to make sure it gets replaced\n",
    "            for i in range(0,numPos):\n",
    "                if (abs(posSlopes[i]-medPosSlope) < posSlopeRef): #find the line that is closest to the median slope\n",
    "                    posSlopeRef = abs(posSlopes[i]-medPosSlope)\n",
    "                    posXRef = (lines[posIndex[i]][0][2] + lines[posIndex[i]][0][0])/2 #save its midpoint\n",
    "                    posYRef = (lines[posIndex[i]][0][3] + lines[posIndex[i]][0][1])/2\n",
    "                else:\n",
    "                    continue\n",
    "                \n",
    "        #find ideal x and y coordinates for a point on the left lane line\n",
    "        if numNeg != 0:\n",
    "            negSlopeRef=100 #start with a very high number to make sure it gets replaced\n",
    "            for i in range(0,numNeg):\n",
    "                if (abs(negSlopes[i]-medNegSlope) < negSlopeRef): #find the line that is closest to the median slope\n",
    "                    negSlopeRef = abs(negSlopes[i]-medNegSlope)\n",
    "                    negXRef = (lines[negIndex[i]][0][2] + lines[negIndex[i]][0][0])/2 #save its midpoint\n",
    "                    negYRef = (lines[negIndex[i]][0][3] + lines[negIndex[i]][0][1])/2\n",
    "                else:\n",
    "                    continue\n",
    "            \n",
    "        #use one point on the line and the slope to determine two extreme points on the line.\n",
    "        #if a point lies outside the image boundaries, that's ok\n",
    "        #because cv2.line() will automatically clip anything outside the image boundaries.\n",
    "        h,w = (img.shape[:2])   #gives the height and width of the image\n",
    "    \n",
    "        #slope = rise/run;  rise = Y2 - Y1;  run = X2 - X1;  slope = (Y2-Y1)/(X2-X1)\n",
    "        #it is important to note that the lines array's 3rd dimension lists the coordinates [X1,Y1,X2,Y2]\n",
    "        #where X1 < X2.  This consistency is counted on below.\n",
    "    \n",
    "        if numNeg != 0:\n",
    "            #find the x,y (leftX1,leftY1) coordinate of the near end of the left lane line. leftX1 is unknown.\n",
    "            lLeftY1 = h #bottom of image\n",
    "            lLeftX2 = negXRef\n",
    "            lLeftY2 = negYRef\n",
    "            #X1 = -(rise/slope)+X2\n",
    "            lLeftX1 = -(lLeftY2-lLeftY1)/medNegSlope + lLeftX2\n",
    "            leftX1 = int(lLeftX1) #near end of left lane line x coordinate\n",
    "            leftY1 = int(lLeftY1) #near end of left lane line y coordinate\n",
    "    \n",
    "            #find the x,y (leftX2,leftY2) coordinate of the far end of the left lane line. leftX2 is unknown.\n",
    "            uLeftX1 = negXRef\n",
    "            uLeftY1 = negYRef\n",
    "            uLeftY2 = 0 #top of image\n",
    "            #X2 = (rise/slope)+X1\n",
    "            uLeftX2 = (uLeftY2-uLeftY1)/medNegSlope + uLeftX1\n",
    "            leftX2 = int(uLeftX2) #far end of left lane line x coordinate\n",
    "            leftY2 = int(uLeftY2) #far end of left lane line y coordinate\n",
    "    \n",
    "        if numPos != 0:\n",
    "            #find the x,y (rightX1,rightY1) coordinate of the far end of the right lane line. rightX1 is unknown\n",
    "            uRightY1 = 0 #top of image\n",
    "            uRightX2 = posXRef\n",
    "            uRightY2 = posYRef\n",
    "            #X1 = -(rise/slope)+X2\n",
    "            uRightX1 = -(uRightY2-uRightY1)/medPosSlope + uRightX2\n",
    "            rightX1 = int(uRightX1) #far end of right lane line x coordinate\n",
    "            rightY1 = int(uRightY1) #far end of right lane line y coordinate\n",
    "    \n",
    "            #find the x,y (rightX2,rightY2) coordinate of the near end of the right lane line. rightX2 is unknown\n",
    "            lRightX1 = posXRef\n",
    "            lRightY1 = posYRef\n",
    "            lRightY2 = h #bottom of image\n",
    "            #X2 = (rise/slope)+X1\n",
    "            lRightX2 = (lRightY2-lRightY1)/medPosSlope + lRightX1\n",
    "            rightX2 = int(lRightX2) #near end of right lane line x coordinate\n",
    "            rightY2 = int(lRightY2) #near end of right lane line y coordinate\n",
    "    \n",
    "        #draw the lines\n",
    "        if numNeg != 0:\n",
    "            cv2.line(img, (leftX1,leftY1), (leftX2,leftY2), color, thickness)\n",
    "        if numPos != 0:\n",
    "            cv2.line(img, (rightX1,rightY1), (rightX2,rightY2), color, thickness)\n",
    "    \n",
    "    else:\n",
    "        for line in lines:\n",
    "            for x1,y1,x2,y2 in line:\n",
    "                cv2.line(img, (x1, y1), (x2, y2), color, thickness)\n"
   ]
  },
  {
   "cell_type": "code",
   "execution_count": 4,
   "metadata": {},
   "outputs": [],
   "source": [
    "def hough_lines(img, rho, theta, threshold, min_line_len, max_line_gap):\n",
    "    \n",
    "    vertices = np.array([[(0,img.shape[0]),(int(img.shape[1]*0.46), int(img.shape[0]*0.60)), (int(img.shape[1]*0.53), int(img.shape[0]*0.60)), (img.shape[1],img.shape[0])]], dtype=np.int32)\n",
    "    \n",
    "    lines = cv2.HoughLinesP(img, rho, theta, threshold, np.array([]), minLineLength=min_line_len, maxLineGap=max_line_gap)\n",
    "    \n",
    "    line_img = np.zeros((img.shape[0], img.shape[1], 3), dtype=np.uint8)\n",
    "\n",
    "    # check whether HoughLinesP() returned any lines.  If it does not, then lines will have no length\n",
    "    #len() on a numpy array of no length will throw an error, so if it does we can handle it and move on\n",
    "    try:\n",
    "        numLines = len(lines)  \n",
    "    except TypeError:  \n",
    "        numLines = 0\n",
    "    else:\n",
    "        numLines = len(lines)\n",
    "    \n",
    "    #only call draw_lines() if there are lines to draw\n",
    "    if (numLines>0):\n",
    "        draw_lines(line_img, lines)\n",
    "            \n",
    "    #draw_lines() draws lines across the entire image, so get it back down to the region of interest\n",
    "    line_img = region_of_interest(line_img, vertices) \n",
    "       \n",
    "    return line_img"
   ]
  },
  {
   "cell_type": "code",
   "execution_count": 5,
   "metadata": {},
   "outputs": [],
   "source": [
    "def pull_Yellow_White(img):\n",
    "    #it is easier to extract specific colors in HSV space than BGR or RGB.\n",
    "    \n",
    "    hsv_image=cv2.cvtColor(img,cv2.COLOR_BGR2HSV)\n",
    "\n",
    "    yellow_lower = np.array([20, 30, 0])\n",
    "    yellow_upper = np.array([40, 255, 255])\n",
    "    yellow = cv2.inRange(hsv_image, yellow_lower, yellow_upper)\n",
    "\n",
    "    white_lower = np.array([0,0,180])\n",
    "    white_upper = np.array([255,30,255])\n",
    "    white = cv2.inRange(hsv_image, white_lower, white_upper)\n",
    "\n",
    "    yellowWhite = weighted_img(white,yellow)\n",
    "    \n",
    "    return yellowWhite"
   ]
  },
  {
   "cell_type": "code",
   "execution_count": 6,
   "metadata": {},
   "outputs": [],
   "source": [
    "def process_image(image):\n",
    "        \n",
    "    if (rgb == 'true'):\n",
    "        bgrImage = cv2.cvtColor(image,cv2.COLOR_RGB2BGR) \n",
    "    else:\n",
    "        bgrImage = image\n",
    "    \n",
    "    #extract yellow and white colors from the image\n",
    "    yelWhtImage = pull_Yellow_White(bgrImage)\n",
    "    \n",
    "    #gaussian blur\n",
    "    kernel_size=7#5\n",
    "    blur_yelWht = gaussian_blur(yelWhtImage,kernel_size)\n",
    "\n",
    "    #canny transformation\n",
    "    low_threshold = 75#50\n",
    "    high_threshold = 150#100\n",
    "    edges = canny(blur_yelWht, low_threshold, high_threshold)\n",
    "\n",
    "    #region of interest mask\n",
    "    imshape = image.shape\n",
    "    vertices = np.array([[(0,imshape[0]),(int(imshape[1]*0.46), int(imshape[0]*0.60)), (int(imshape[1]*0.53), int(imshape[0]*0.60)), (imshape[1],imshape[0])]], dtype=np.int32)\n",
    "    masked_edges = region_of_interest(edges, vertices)\n",
    "\n",
    "    #hough transform\n",
    "    rho = 2\n",
    "    theta = np.pi/180\n",
    "    threshold = 20#30\n",
    "    min_line_len = 30\n",
    "    max_line_gap = 20\n",
    "    lines = hough_lines(masked_edges, rho, theta, threshold, min_line_len, max_line_gap)\n",
    "    \n",
    "    #overlay images\n",
    "    combined = weighted_img(lines, image, α=0.8, β=1., γ=0.) \n",
    "    \n",
    "    ##these lines are helpful when playing around with the parameters\n",
    "    #plt.imshow(cv2.cvtColor(edges,cv2.COLOR_RGB2BGR))  \n",
    "    #plt.show()                                           \n",
    "    \n",
    "    return combined\n"
   ]
  },
  {
   "cell_type": "markdown",
   "metadata": {},
   "source": [
    "## Start With Images\n"
   ]
  },
  {
   "cell_type": "markdown",
   "metadata": {},
   "source": [
    "This cell will iterate through the `test_images directory`, find the lane lines in each image, overlay them onto the a copy of the original, and save the renamed results in the `test_images_output` directory."
   ]
  },
  {
   "cell_type": "code",
   "execution_count": 7,
   "metadata": {
    "scrolled": true
   },
   "outputs": [],
   "source": [
    "for im in os.listdir(\"test_images/\"): #iterate through each file name in the subdirectory\n",
    "    filename = 'test_images/'+ im     #add the subdirectory to the file name\n",
    "    image = cv2.imread(filename)  #use the path/filename to read the image ##alternate use image = mpimg.imread(filename)\n",
    "    lineType = \"segments\" #global variable accessed inside hough_lines()\n",
    "    color=[0, 0, 255]     #global variable accessed inside draw_lines()\n",
    "    rgb = 'false'         #global variable accessed inside process_image()\n",
    "    \n",
    "    #find the lane lines\n",
    "    combined = process_image(image)\n",
    "    \n",
    "    #save the images\n",
    "    saveName = 'test_images_output/highlighted_'+im\n",
    "    cv2.imwrite(saveName,combined)\n",
    "    \n",
    "    ##these lines plot images inline for convenience\n",
    "    #plt.imshow(cv2.cvtColor(combined,cv2.COLOR_RGB2BGR))\n",
    "    #plt.show()\n",
    "    #print(filename)"
   ]
  },
  {
   "cell_type": "markdown",
   "metadata": {},
   "source": [
    "## Test on Videos\n",
    "\n",
    "This cell performs those same functions, except on a video: `solidWhiteRight.mp4` \n",
    "The output is saved in the `test_videos_output` directory.\n"
   ]
  },
  {
   "cell_type": "code",
   "execution_count": 8,
   "metadata": {},
   "outputs": [
    {
     "name": "stderr",
     "output_type": "stream",
     "text": [
      "t:   2%|▏         | 4/221 [00:00<00:06, 31.20it/s, now=None]"
     ]
    },
    {
     "name": "stdout",
     "output_type": "stream",
     "text": [
      "Moviepy - Building video test_videos_output/highlighted_solidWhiteRight.mp4.\n",
      "Moviepy - Writing video test_videos_output/highlighted_solidWhiteRight.mp4\n",
      "\n"
     ]
    },
    {
     "name": "stderr",
     "output_type": "stream",
     "text": [
      "                                                              \r"
     ]
    },
    {
     "name": "stdout",
     "output_type": "stream",
     "text": [
      "Moviepy - Done !\n",
      "Moviepy - video ready test_videos_output/highlighted_solidWhiteRight.mp4\n",
      "CPU times: user 10.4 s, sys: 1.28 s, total: 11.6 s\n",
      "Wall time: 16.6 s\n"
     ]
    }
   ],
   "source": [
    "white_output = 'test_videos_output/highlighted_solidWhiteRight.mp4'\n",
    "clip1 = VideoFileClip(\"test_videos/solidWhiteRight.mp4\") #.subclip(2,3) ##add this for partial video\n",
    "lineType = \"segments\" \n",
    "color=[255, 0, 0]     \n",
    "rgb = 'true'   \n",
    "white_clip = clip1.fl_image(process_image) \n",
    "%time white_clip.write_videofile(white_output, audio=False)"
   ]
  },
  {
   "cell_type": "markdown",
   "metadata": {},
   "source": [
    "**This cell can display the video inline:**"
   ]
  },
  {
   "cell_type": "code",
   "execution_count": null,
   "metadata": {},
   "outputs": [],
   "source": [
    "HTML(\"\"\"\n",
    "<video width=\"960\" height=\"540\" controls>\n",
    "  <source src=\"{0}\">\n",
    "</video>\n",
    "\"\"\".format(white_output))"
   ]
  },
  {
   "cell_type": "markdown",
   "metadata": {},
   "source": [
    "## Improve the Lines\n",
    "\n",
    "**The draw_lines() function has been adapted to identify two solid lines of best fit - one for the left lane line and one for the right.**\n",
    "\n",
    "This is preformed on the provided video: `solidYellowLeft.mp4` \n",
    "The output is saved in the `test_videos_output` directory.\n"
   ]
  },
  {
   "cell_type": "code",
   "execution_count": 9,
   "metadata": {},
   "outputs": [
    {
     "name": "stderr",
     "output_type": "stream",
     "text": [
      "t:   1%|          | 4/681 [00:00<00:21, 31.70it/s, now=None]"
     ]
    },
    {
     "name": "stdout",
     "output_type": "stream",
     "text": [
      "Moviepy - Building video test_videos_output/bestFit_solidYellowLeft.mp4.\n",
      "Moviepy - Writing video test_videos_output/bestFit_solidYellowLeft.mp4\n",
      "\n"
     ]
    },
    {
     "name": "stderr",
     "output_type": "stream",
     "text": [
      "                                                              \r"
     ]
    },
    {
     "name": "stdout",
     "output_type": "stream",
     "text": [
      "Moviepy - Done !\n",
      "Moviepy - video ready test_videos_output/bestFit_solidYellowLeft.mp4\n",
      "CPU times: user 31.6 s, sys: 3.69 s, total: 35.3 s\n",
      "Wall time: 44.6 s\n"
     ]
    }
   ],
   "source": [
    "yellow_output = 'test_videos_output/bestFit_solidYellowLeft.mp4'\n",
    "clip2 = VideoFileClip('test_videos/solidYellowLeft.mp4') #.subclip(3,5)\n",
    "lineType = \"solid\" \n",
    "color=[255, 0, 0]     \n",
    "rgb = 'true'\n",
    "yellow_clip = clip2.fl_image(process_image)\n",
    "%time yellow_clip.write_videofile(yellow_output, audio=False)"
   ]
  },
  {
   "cell_type": "code",
   "execution_count": null,
   "metadata": {},
   "outputs": [],
   "source": [
    "HTML(\"\"\"\n",
    "<video width=\"960\" height=\"540\" controls>\n",
    "  <source src=\"{0}\">\n",
    "</video>\n",
    "\"\"\".format(yellow_output))"
   ]
  },
  {
   "cell_type": "markdown",
   "metadata": {
    "collapsed": true
   },
   "source": [
    "## Optional Challenge\n",
    "\n",
    "The `challenge.mp4` video presents less than ideal lighting and road colors, which can be overcome with more robust functions."
   ]
  },
  {
   "cell_type": "code",
   "execution_count": 10,
   "metadata": {},
   "outputs": [
    {
     "name": "stderr",
     "output_type": "stream",
     "text": [
      "t:   1%|          | 3/251 [00:00<00:10, 23.46it/s, now=None]"
     ]
    },
    {
     "name": "stdout",
     "output_type": "stream",
     "text": [
      "Moviepy - Building video test_videos_output/bestFit_challenge.mp4.\n",
      "Moviepy - Writing video test_videos_output/bestFit_challenge.mp4\n",
      "\n"
     ]
    },
    {
     "name": "stderr",
     "output_type": "stream",
     "text": [
      "                                                              \r"
     ]
    },
    {
     "name": "stdout",
     "output_type": "stream",
     "text": [
      "Moviepy - Done !\n",
      "Moviepy - video ready test_videos_output/bestFit_challenge.mp4\n",
      "CPU times: user 19 s, sys: 2.49 s, total: 21.5 s\n",
      "Wall time: 32.6 s\n"
     ]
    }
   ],
   "source": [
    "challenge_output = 'test_videos_output/bestFit_challenge.mp4'\n",
    "#clip3 = VideoFileClip('test_videos/challenge.mp4').subclip(4,5) \n",
    "clip3 = VideoFileClip('test_videos/challenge.mp4')\n",
    "lineType = \"solid\" \n",
    "color=[255, 0, 0]     \n",
    "rgb = 'true'\n",
    "challenge_clip = clip3.fl_image(process_image)\n",
    "%time challenge_clip.write_videofile(challenge_output, audio=False)"
   ]
  },
  {
   "cell_type": "code",
   "execution_count": null,
   "metadata": {},
   "outputs": [],
   "source": [
    "HTML(\"\"\"\n",
    "<video width=\"960\" height=\"540\" controls>\n",
    "  <source src=\"{0}\">\n",
    "</video>\n",
    "\"\"\".format(challenge_output))"
   ]
  }
 ],
 "metadata": {
  "anaconda-cloud": {},
  "kernelspec": {
   "display_name": "Python 3",
   "language": "python",
   "name": "python3"
  },
  "language_info": {
   "codemirror_mode": {
    "name": "ipython",
    "version": 3
   },
   "file_extension": ".py",
   "mimetype": "text/x-python",
   "name": "python",
   "nbconvert_exporter": "python",
   "pygments_lexer": "ipython3",
   "version": "3.5.2"
  },
  "widgets": {
   "state": {},
   "version": "1.1.2"
  }
 },
 "nbformat": 4,
 "nbformat_minor": 1
}
